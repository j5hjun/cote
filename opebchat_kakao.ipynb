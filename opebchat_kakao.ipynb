{
 "cells": [
  {
   "cell_type": "code",
   "execution_count": null,
   "metadata": {},
   "outputs": [],
   "source": [
    "record = [\"Enter uid1234 Muzi\", \"Enter uid4567 Prodo\",\"Leave uid1234\",\"Enter uid1234 Prodo\",\"Change uid4567 Ryan\"]"
   ]
  },
  {
   "cell_type": "code",
   "execution_count": null,
   "metadata": {},
   "outputs": [
    {
     "data": {
      "text/plain": [
       "['Prodo님이 들어왔습니다.', 'Ryan님이 들어왔습니다.', 'Prodo님이 나갔습니다.', 'Prodo님이 들어왔습니다.']"
      ]
     },
     "metadata": {},
     "output_type": "display_data"
    }
   ],
   "source": [
    "import pandas as pd\n",
    "\n",
    "result=[]\n",
    "df = pd.DataFrame(index = ['id'])\n",
    "ids = list(set([temp.split()[1] for temp in record]))\n",
    "ids\n",
    "for temp in record:\n",
    "    if len(temp.split()) == 3:\n",
    "        df[temp.split()[1]] = temp.split()[2]\n",
    "for temp in record:\n",
    "    if temp.split()[0] == 'Enter':\n",
    "        result.append(\"{0}님이 들어왔습니다.\".format(df.loc['id', temp.split()[1]]))\n",
    "    if temp.split()[0] == 'Leave':\n",
    "        result.append(\"{0}님이 나갔습니다.\".format(df.loc['id', temp.split()[1]]))\n",
    "result"
   ]
  },
  {
   "cell_type": "code",
   "execution_count": null,
   "metadata": {},
   "outputs": [],
   "source": [
    "def solution(record):\n",
    "    id_name_map = {}\n",
    "    result = []\n",
    "\n",
    "    for entry in record:\n",
    "        parts = entry.split()\n",
    "        action, user_id = parts[0], parts[1]\n",
    "        if action != 'Leave':\n",
    "            name = parts[2]\n",
    "            id_name_map[user_id] = name\n",
    "    \n",
    "    for entry in record:\n",
    "        parts = entry.split()\n",
    "        action, user_id = parts[0], parts[1]\n",
    "        name = id_name_map[user_id]\n",
    "        \n",
    "        if action == 'Enter':\n",
    "            result.append(f\"{name}님이 들어왔습니다.\")\n",
    "        elif action == 'Leave':\n",
    "            result.append(f\"{name}님이 나갔습니다.\")\n",
    "    \n",
    "    return result\n"
   ]
  }
 ],
 "metadata": {
  "language_info": {
   "name": "python"
  }
 },
 "nbformat": 4,
 "nbformat_minor": 2
}
