{
 "cells": [
  {
   "cell_type": "code",
   "execution_count": 21,
   "metadata": {},
   "outputs": [],
   "source": [
    "X = '3403'\n",
    "Y= '13203'"
   ]
  },
  {
   "cell_type": "code",
   "execution_count": 23,
   "metadata": {},
   "outputs": [
    {
     "data": {
      "text/plain": [
       "[1, 0, 0, 2, 1, 0, 0, 0, 0, 0]"
      ]
     },
     "execution_count": 23,
     "metadata": {},
     "output_type": "execute_result"
    }
   ],
   "source": [
    "line_x = [0]*10\n",
    "for temp_x in X:\n",
    "    line_x[int(temp_x)] += 1\n",
    "line_x"
   ]
  },
  {
   "cell_type": "code",
   "execution_count": 24,
   "metadata": {},
   "outputs": [
    {
     "data": {
      "text/plain": [
       "[1, 1, 1, 2, 0, 0, 0, 0, 0, 0]"
      ]
     },
     "execution_count": 24,
     "metadata": {},
     "output_type": "execute_result"
    }
   ],
   "source": [
    "line_y = [0]*10\n",
    "for temp_y in Y:\n",
    "    line_y[int(temp_y)] += 1\n",
    "line_y"
   ]
  },
  {
   "cell_type": "code",
   "execution_count": 44,
   "metadata": {},
   "outputs": [
    {
     "data": {
      "text/plain": [
       "'330'"
      ]
     },
     "execution_count": 44,
     "metadata": {},
     "output_type": "execute_result"
    }
   ],
   "source": [
    "answer_list = []\n",
    "for temp in range(10):\n",
    "        if line_x[temp] != 0 and line_y[temp] != 0:\n",
    "            Min = min(line_x[temp], line_y[temp])\n",
    "            for count in range(Min):\n",
    "                answer_list.append(temp)\n",
    "answer_sorted = sorted(answer_list, reverse=True)\n",
    "answer = ''.join(str(s) for s in answer_sorted)\n",
    "answer"
   ]
  },
  {
   "cell_type": "code",
   "execution_count": null,
   "metadata": {},
   "outputs": [
    {
     "data": {
      "text/plain": [
       "{0}"
      ]
     },
     "metadata": {},
     "output_type": "display_data"
    }
   ],
   "source": [
    "answer_sorted = [0, 0, 0, 0]\n",
    "set(answer_sorted)"
   ]
  },
  {
   "cell_type": "code",
   "execution_count": 57,
   "metadata": {},
   "outputs": [
    {
     "data": {
      "text/plain": [
       "''"
      ]
     },
     "execution_count": 57,
     "metadata": {},
     "output_type": "execute_result"
    }
   ],
   "source": [
    "answer_sorted = []\n",
    "''.join(str(s) for s in answer_sorted)"
   ]
  },
  {
   "cell_type": "code",
   "execution_count": 58,
   "metadata": {},
   "outputs": [],
   "source": [
    "def solution(X, Y):\n",
    "    answer_list = []\n",
    "    line_x = [0]*10\n",
    "    line_y = [0]*10\n",
    "    for temp_x in X:\n",
    "        line_x[int(temp_x)] += 1\n",
    "    for temp_y in Y:\n",
    "        line_y[int(temp_y)] += 1\n",
    "    for temp in range(10):\n",
    "        if line_x[temp] != 0 and line_y[temp] != 0:\n",
    "            Min = min(line_x[temp], line_y[temp])\n",
    "            for count in range(Min):\n",
    "                answer_list.append(temp)\n",
    "    answer_sorted = sorted(answer_list, reverse=True)\n",
    "    answer = ''.join(str(s) for s in answer_sorted)\n",
    "    if set(answer_sorted) == {0}: return '0'\n",
    "    if answer_sorted == []: return '-1'\n",
    "    return answer"
   ]
  },
  {
   "cell_type": "code",
   "execution_count": 59,
   "metadata": {},
   "outputs": [
    {
     "data": {
      "text/plain": [
       "'-1'"
      ]
     },
     "execution_count": 59,
     "metadata": {},
     "output_type": "execute_result"
    }
   ],
   "source": [
    "X='1234'\n",
    "Y='5678'\n",
    "solution(X, Y)"
   ]
  }
 ],
 "metadata": {
  "kernelspec": {
   "display_name": "gasang",
   "language": "python",
   "name": "python3"
  },
  "language_info": {
   "codemirror_mode": {
    "name": "ipython",
    "version": 3
   },
   "file_extension": ".py",
   "mimetype": "text/x-python",
   "name": "python",
   "nbconvert_exporter": "python",
   "pygments_lexer": "ipython3",
   "version": "3.10.14"
  }
 },
 "nbformat": 4,
 "nbformat_minor": 2
}
