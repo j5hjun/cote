{
 "cells": [
  {
   "cell_type": "code",
   "execution_count": 39,
   "metadata": {},
   "outputs": [],
   "source": [
    "# n2, 3\n",
    "# n4, 11 = n2*n2 + 2\n",
    "# n6, 41 = n4*n2 + n2*2 + 2\n",
    "# n8, n6*n2 + n4*2 + n2*2 + 2"
   ]
  },
  {
   "cell_type": "code",
   "execution_count": 58,
   "metadata": {},
   "outputs": [],
   "source": [
    "def solution(n):\n",
    "    if n%2 != 0: return 0\n",
    "    n //= 2\n",
    "    tile = [0, 3, 11]\n",
    "    if n > 2:\n",
    "        for i in range(3, n+1):\n",
    "            tile.append(tile[i-1]*tile[1] + 2*sum(tile[1:i-1]) + 2)\n",
    "    answer = tile[n] % 1000000007\n",
    "    return answer"
   ]
  },
  {
   "cell_type": "code",
   "execution_count": 59,
   "metadata": {},
   "outputs": [
    {
     "data": {
      "text/plain": [
       "3"
      ]
     },
     "execution_count": 59,
     "metadata": {},
     "output_type": "execute_result"
    }
   ],
   "source": [
    "solution(2)"
   ]
  },
  {
   "cell_type": "code",
   "execution_count": null,
   "metadata": {},
   "outputs": [],
   "source": []
  }
 ],
 "metadata": {
  "kernelspec": {
   "display_name": "gasang",
   "language": "python",
   "name": "python3"
  },
  "language_info": {
   "codemirror_mode": {
    "name": "ipython",
    "version": 3
   },
   "file_extension": ".py",
   "mimetype": "text/x-python",
   "name": "python",
   "nbconvert_exporter": "python",
   "pygments_lexer": "ipython3",
   "version": "3.10.14"
  }
 },
 "nbformat": 4,
 "nbformat_minor": 2
}
