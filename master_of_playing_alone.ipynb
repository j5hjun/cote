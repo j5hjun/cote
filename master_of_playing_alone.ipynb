{
 "cells": [
  {
   "cell_type": "code",
   "execution_count": null,
   "metadata": {},
   "outputs": [
    {
     "data": {
      "text/plain": [
       "70"
      ]
     },
     "metadata": {},
     "output_type": "display_data"
    }
   ],
   "source": [
    "cards = [ 8, 57, 42, 33, 11, 49, 67, 19, 26, 13, 48, 32, 41, 27, 10, 9, 30, 7, 16, 39, 38, 17, 12, 47, 31, 15, 65, 59, 61, 54, 64, 24, 28, 53, 20, 4, 3, 22, 29, 18, 6, 51, 70, 35, 69, 5, 14, 56, 52, 50, 55, 63, 46, 37, 45, 34, 25, 40, 21, 58, 66, 62, 44, 43, 1, 36, 2, 23, 68, 60]\n",
    "len(cards)"
   ]
  },
  {
   "cell_type": "code",
   "execution_count": null,
   "metadata": {},
   "outputs": [
    {
     "data": {
      "text/plain": [
       "15"
      ]
     },
     "metadata": {},
     "output_type": "display_data"
    }
   ],
   "source": [
    "cards = [9,8,1,10,5,11,15,7,3,14,4,13,12,6,2]\n",
    "len(cards)"
   ]
  },
  {
   "cell_type": "code",
   "execution_count": null,
   "metadata": {},
   "outputs": [
    {
     "data": {
      "text/plain": [
       "20"
      ]
     },
     "metadata": {},
     "output_type": "display_data"
    }
   ],
   "source": [
    "opened = [0]*len(cards)\n",
    "counts = []\n",
    "for i, card in enumerate(cards, 1):\n",
    "    if opened[i-1] == 0:\n",
    "        opened[i-1] = i\n",
    "        while True:\n",
    "            opened[card-1] = i\n",
    "            card = cards[card-1]\n",
    "            if opened[card-1] == i:\n",
    "                break\n",
    "        counts.append(opened.count(i))\n",
    "if len(counts) > 1:\n",
    "        answer = sorted(counts)[-1]*sorted(counts)[-2]\n",
    "else:\n",
    "    answer = 0\n",
    "answer"
   ]
  }
 ],
 "metadata": {
  "language_info": {
   "name": "python"
  }
 },
 "nbformat": 4,
 "nbformat_minor": 2
}
