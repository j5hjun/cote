{
 "cells": [
  {
   "cell_type": "code",
   "execution_count": 7,
   "metadata": {},
   "outputs": [],
   "source": [
    "p = [\n",
    "'   + -- + - + -   ',\n",
    "'   + --- + - +   ',\n",
    "'   + -- + - + -   ',\n",
    "'   + - + - + - +   ',\n",
    "]"
   ]
  },
  {
   "cell_type": "code",
   "execution_count": 10,
   "metadata": {},
   "outputs": [
    {
     "data": {
      "text/plain": [
       "'JEJU'"
      ]
     },
     "execution_count": 10,
     "metadata": {},
     "output_type": "execute_result"
    }
   ],
   "source": [
    "''.join([chr(int(i.strip().replace('+','1').replace('-','0').replace(' ',''),2)) for i in p])"
   ]
  },
  {
   "cell_type": "code",
   "execution_count": 11,
   "metadata": {},
   "outputs": [],
   "source": [
    "돌의내구도 = [1, 2, 1, 4]\n",
    "독 = [{\n",
    "    \"이름\" : \"루비독\",\n",
    "    \"나이\" : \"95년생\",\n",
    "    \"점프력\" : \"3\",\n",
    "    \"몸무게\" : \"4\",\n",
    "    },{\n",
    "    \"이름\" : \"피치독\",\n",
    "    \"나이\" : \"95년생\",\n",
    "    \"점프력\" : \"3\",\n",
    "    \"몸무게\" : \"3\",\n",
    "    },{\n",
    "    \"이름\" : \"씨-독\",\n",
    "    \"나이\" : \"72년생\",\n",
    "    \"점프력\" : \"2\",\n",
    "    \"몸무게\" : \"1\",\n",
    "    },{\n",
    "    \"이름\" : \"코볼독\",\n",
    "    \"나이\" : \"59년생\",\n",
    "    \"점프력\" : \"1\",\n",
    "    \"몸무게\" : \"1\",\n",
    "    },\n",
    "]"
   ]
  },
  {
   "cell_type": "code",
   "execution_count": 19,
   "metadata": {},
   "outputs": [
    {
     "data": {
      "text/plain": [
       "4"
      ]
     },
     "execution_count": 19,
     "metadata": {},
     "output_type": "execute_result"
    }
   ],
   "source": [
    "len(돌의내구도)"
   ]
  },
  {
   "cell_type": "code",
   "execution_count": 21,
   "metadata": {},
   "outputs": [
    {
     "name": "stdout",
     "output_type": "stream",
     "text": [
      "[]\n"
     ]
    }
   ],
   "source": [
    "answer = []\n",
    "for i in 독:\n",
    "    독의위치 = -1\n",
    "    for d in range(len(돌의내구도)%int(i['점프력'])):\n",
    "        if 독의위치 < len(돌의내구도):\n",
    "            독의위치 += int(i['점프력'])\n",
    "            돌의내구도[독의위치] -= int(i['몸무게'])\n",
    "            if 돌의내구도[독의위치] < 0:\n",
    "                if i['이름'] in answer:\n",
    "                    answer.remove(i['이름'])\n",
    "                break\n",
    "            else:\n",
    "                if i['이름'] in answer:\n",
    "                    continue\n",
    "                else:\n",
    "                    answer.append(i['이름'])\n",
    "\n",
    "print(answer)\n",
    "        "
   ]
  },
  {
   "cell_type": "code",
   "execution_count": 22,
   "metadata": {},
   "outputs": [],
   "source": [
    "def ddd(독, 돌의내구도):\n",
    "    answer = []\n",
    "    for i in 독:\n",
    "        독의위치 = -1\n",
    "        for d in range(len(돌의내구도)%int(i['점프력'])):\n",
    "            if 독의위치 < len(돌의내구도):\n",
    "                독의위치 += int(i['점프력'])\n",
    "                돌의내구도[독의위치] -= int(i['몸무게'])\n",
    "                if 돌의내구도[독의위치] < 0:\n",
    "                    if i['이름'] in answer:\n",
    "                        answer.remove(i['이름'])\n",
    "                    break\n",
    "                else:\n",
    "                    if i['이름'] in answer:\n",
    "                        continue\n",
    "                    else:\n",
    "                        answer.append(i['이름'])\n",
    "\n",
    "    return answer"
   ]
  },
  {
   "cell_type": "code",
   "execution_count": 24,
   "metadata": {},
   "outputs": [
    {
     "data": {
      "text/plain": [
       "['루비독', '씨-독']"
      ]
     },
     "execution_count": 24,
     "metadata": {},
     "output_type": "execute_result"
    }
   ],
   "source": [
    "돌의내구도 = [5,3,4,1,3,8,3]\n",
    "독 = [{\n",
    "    \"이름\" : \"루비독\",\n",
    "    \"나이\" : \"95년생\",\n",
    "    \"점프력\" : \"3\",\n",
    "    \"몸무게\" : \"4\",\n",
    "    },{\n",
    "    \"이름\" : \"피치독\",\n",
    "    \"나이\" : \"95년생\",\n",
    "    \"점프력\" : \"3\",\n",
    "    \"몸무게\" : \"3\",\n",
    "    },{\n",
    "    \"이름\" : \"씨-독\",\n",
    "    \"나이\" : \"72년생\",\n",
    "    \"점프력\" : \"2\",\n",
    "    \"몸무게\" : \"1\",\n",
    "    },{\n",
    "    \"이름\" : \"코볼독\",\n",
    "    \"나이\" : \"59년생\",\n",
    "    \"점프력\" : \"1\",\n",
    "    \"몸무게\" : \"1\",\n",
    "    },\n",
    "]\n",
    "\n",
    "ddd(독, 돌의내구도)"
   ]
  },
  {
   "cell_type": "code",
   "execution_count": 4,
   "metadata": {},
   "outputs": [
    {
     "name": "stdout",
     "output_type": "stream",
     "text": [
      "11668\n"
     ]
    }
   ],
   "source": [
    "대기인원 = 14000605\n",
    "\n",
    "month = [1024, 512, 256, 128, 64, 32, 16, 8, 4, 2]\n",
    "day = 0\n",
    "year = 2020\n",
    "\n",
    "while 대기인원 > 0:\n",
    "    for h in range(9, 21): #시간\n",
    "        for m in range(0, 60, 10): #10분 단위 대기인원 줄어들게\n",
    "            if m == 0:\n",
    "                if 대기인원 > 25:\n",
    "                    대기인원 -= 25\n",
    "                elif 대기인원 < 25:\n",
    "                    시 = h\n",
    "                    분 = m\n",
    "                    break\n",
    "                else:\n",
    "                    분 = m + 10\n",
    "                    시 = h\n",
    "                    break\n",
    "            else:\n",
    "                if 대기인원 > 15:\n",
    "                    대기인원 -= 15\n",
    "                elif 대기인원 < 15:\n",
    "                    시 = h\n",
    "                    분 = m\n",
    "                    break\n",
    "                else:\n",
    "                    if m == 50:\n",
    "                        분 = 0\n",
    "                        if h == 20:\n",
    "                            day += 1\n",
    "                            시 = 9\n",
    "                        else:\n",
    "                            시 = h\n",
    "                    else:\n",
    "                        분 = m + 10\n",
    "                        시 = h\n",
    "                    break\n",
    "    day += 1 #날짜 플러스 1\n",
    "    #대기인원이 0명이면 다음 배\n",
    "print(day) # ㅈㅈ"
   ]
  },
  {
   "cell_type": "code",
   "execution_count": null,
   "metadata": {},
   "outputs": [],
   "source": []
  }
 ],
 "metadata": {
  "kernelspec": {
   "display_name": "gasang",
   "language": "python",
   "name": "python3"
  },
  "language_info": {
   "codemirror_mode": {
    "name": "ipython",
    "version": 3
   },
   "file_extension": ".py",
   "mimetype": "text/x-python",
   "name": "python",
   "nbconvert_exporter": "python",
   "pygments_lexer": "ipython3",
   "version": "3.10.14"
  }
 },
 "nbformat": 4,
 "nbformat_minor": 2
}
