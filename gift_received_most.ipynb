{
 "cells": [
  {
   "cell_type": "code",
   "execution_count": 1,
   "metadata": {},
   "outputs": [],
   "source": [
    "friends = [\"muzi\", \"ryan\", \"frodo\", \"neo\"]\n",
    "gifts = [\"muzi frodo\", \"muzi frodo\", \"ryan muzi\", \"ryan muzi\", \"ryan muzi\", \"frodo muzi\", \"frodo ryan\", \"neo muzi\"]"
   ]
  },
  {
   "cell_type": "code",
   "execution_count": 36,
   "metadata": {},
   "outputs": [
    {
     "data": {
      "text/plain": [
       "2.0"
      ]
     },
     "execution_count": 36,
     "metadata": {},
     "output_type": "execute_result"
    }
   ],
   "source": [
    "import pandas as pd\n",
    "import numpy as np\n",
    "def solution(friends, gifts):\n",
    "    result = []\n",
    "    df = pd.DataFrame(index = friends, columns = friends)\n",
    "    df = df.fillna(0)\n",
    "    df1 = pd.DataFrame(index = friends, columns = ['take'])\n",
    "    df1 = df1.fillna(0)\n",
    "    for gift in gifts:\n",
    "        df.loc[gift.split()[0], gift.split()[1]] += 1\n",
    "        df1.loc[gift.split()[0], 'take'] += 1\n",
    "        df1.loc[gift.split()[1], 'take'] -= 1\n",
    "    for friend1 in friends:\n",
    "        for friend2 in friends:\n",
    "            if friend1 != friend2:\n",
    "                if df.loc[friend1, friend2] > df.loc[friend2, friend1]:\n",
    "                    df.loc[friend1, friend1] += 1\n",
    "                elif df.loc[friend1, friend2] < df.loc[friend2, friend1]:\n",
    "                    df.loc[friend2, friend2] += 1\n",
    "                elif df.loc[friend1, friend2] == df.loc[friend2, friend1]:\n",
    "                    if df1.loc[friend1, 'take'] > df1.loc[friend2, 'take']:\n",
    "                        df.loc[friend1, friend1] += 1\n",
    "                    elif df1.loc[friend1, 'take'] < df1.loc[friend2, 'take']:\n",
    "                        df.loc[friend2, friend2] += 1\n",
    "    \n",
    "    result = np.diag(df).tolist()\n",
    "    answer = sorted(result)[-1]\n",
    "    return answer/2\n",
    "solution(friends, gifts)"
   ]
  },
  {
   "cell_type": "code",
   "execution_count": null,
   "metadata": {},
   "outputs": [],
   "source": []
  }
 ],
 "metadata": {
  "kernelspec": {
   "display_name": "gasang",
   "language": "python",
   "name": "python3"
  },
  "language_info": {
   "codemirror_mode": {
    "name": "ipython",
    "version": 3
   },
   "file_extension": ".py",
   "mimetype": "text/x-python",
   "name": "python",
   "nbconvert_exporter": "python",
   "pygments_lexer": "ipython3",
   "version": "3.10.14"
  }
 },
 "nbformat": 4,
 "nbformat_minor": 2
}
